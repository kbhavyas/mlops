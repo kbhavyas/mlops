{
 "cells": [
  {
   "cell_type": "markdown",
   "metadata": {},
   "source": [
    "Step 1: Hyperparameter Tuning and Model Training"
   ]
  },
  {
   "cell_type": "code",
   "execution_count": 1,
   "metadata": {},
   "outputs": [],
   "source": [
    "# !pip install optuna\n",
    "# !pip install scikit-learn\n",
    "# !pip install flask"
   ]
  },
  {
   "cell_type": "code",
   "execution_count": 2,
   "metadata": {},
   "outputs": [
    {
     "name": "stderr",
     "output_type": "stream",
     "text": [
      "/Users/nithindsouza/My Learnings/MTech/Sem 3/Subjects/MLOps/Assignments/.venv/lib/python3.13/site-packages/tqdm/auto.py:21: TqdmWarning: IProgress not found. Please update jupyter and ipywidgets. See https://ipywidgets.readthedocs.io/en/stable/user_install.html\n",
      "  from .autonotebook import tqdm as notebook_tqdm\n",
      "[I 2025-01-25 12:20:19,165] A new study created in memory with name: no-name-65aaadc0-9235-4272-b99f-1eb6eeb507b1\n",
      "[I 2025-01-25 12:20:19,216] Trial 0 finished with value: 0.9210526315789473 and parameters: {'n_estimators': 107, 'max_depth': 4, 'min_samples_split': 5}. Best is trial 0 with value: 0.9210526315789473.\n",
      "[I 2025-01-25 12:20:19,270] Trial 1 finished with value: 0.9210526315789473 and parameters: {'n_estimators': 123, 'max_depth': 12, 'min_samples_split': 7}. Best is trial 0 with value: 0.9210526315789473.\n",
      "[I 2025-01-25 12:20:19,343] Trial 2 finished with value: 0.9210526315789473 and parameters: {'n_estimators': 168, 'max_depth': 26, 'min_samples_split': 6}. Best is trial 0 with value: 0.9210526315789473.\n",
      "[I 2025-01-25 12:20:19,418] Trial 3 finished with value: 0.9210526315789473 and parameters: {'n_estimators': 171, 'max_depth': 8, 'min_samples_split': 10}. Best is trial 0 with value: 0.9210526315789473.\n",
      "[I 2025-01-25 12:20:19,458] Trial 4 finished with value: 0.9210526315789473 and parameters: {'n_estimators': 92, 'max_depth': 7, 'min_samples_split': 2}. Best is trial 0 with value: 0.9210526315789473.\n",
      "[I 2025-01-25 12:20:19,489] Trial 5 finished with value: 0.9210526315789473 and parameters: {'n_estimators': 69, 'max_depth': 14, 'min_samples_split': 8}. Best is trial 0 with value: 0.9210526315789473.\n",
      "[I 2025-01-25 12:20:19,503] Trial 6 finished with value: 0.9210526315789473 and parameters: {'n_estimators': 30, 'max_depth': 25, 'min_samples_split': 3}. Best is trial 0 with value: 0.9210526315789473.\n",
      "[I 2025-01-25 12:20:19,565] Trial 7 finished with value: 0.9210526315789473 and parameters: {'n_estimators': 142, 'max_depth': 2, 'min_samples_split': 7}. Best is trial 0 with value: 0.9210526315789473.\n",
      "[I 2025-01-25 12:20:19,578] Trial 8 finished with value: 0.9210526315789473 and parameters: {'n_estimators': 28, 'max_depth': 6, 'min_samples_split': 3}. Best is trial 0 with value: 0.9210526315789473.\n",
      "[I 2025-01-25 12:20:19,650] Trial 9 finished with value: 0.9210526315789473 and parameters: {'n_estimators': 162, 'max_depth': 18, 'min_samples_split': 8}. Best is trial 0 with value: 0.9210526315789473.\n",
      "[I 2025-01-25 12:20:19,741] Trial 10 finished with value: 0.9210526315789473 and parameters: {'n_estimators': 200, 'max_depth': 20, 'min_samples_split': 5}. Best is trial 0 with value: 0.9210526315789473.\n",
      "[I 2025-01-25 12:20:19,799] Trial 11 finished with value: 0.9210526315789473 and parameters: {'n_estimators': 124, 'max_depth': 12, 'min_samples_split': 5}. Best is trial 0 with value: 0.9210526315789473.\n",
      "[I 2025-01-25 12:20:19,845] Trial 12 finished with value: 0.9210526315789473 and parameters: {'n_estimators': 92, 'max_depth': 2, 'min_samples_split': 5}. Best is trial 0 with value: 0.9210526315789473.\n",
      "[I 2025-01-25 12:20:19,900] Trial 13 finished with value: 0.9210526315789473 and parameters: {'n_estimators': 116, 'max_depth': 32, 'min_samples_split': 9}. Best is trial 0 with value: 0.9210526315789473.\n",
      "[I 2025-01-25 12:20:19,934] Trial 14 finished with value: 0.9210526315789473 and parameters: {'n_estimators': 64, 'max_depth': 12, 'min_samples_split': 6}. Best is trial 0 with value: 0.9210526315789473.\n",
      "[I 2025-01-25 12:20:19,999] Trial 15 finished with value: 0.9210526315789473 and parameters: {'n_estimators': 138, 'max_depth': 9, 'min_samples_split': 4}. Best is trial 0 with value: 0.9210526315789473.\n",
      "[I 2025-01-25 12:20:20,035] Trial 16 finished with value: 0.9210526315789473 and parameters: {'n_estimators': 66, 'max_depth': 15, 'min_samples_split': 7}. Best is trial 0 with value: 0.9210526315789473.\n",
      "[I 2025-01-25 12:20:20,081] Trial 17 finished with value: 0.9210526315789473 and parameters: {'n_estimators': 92, 'max_depth': 5, 'min_samples_split': 7}. Best is trial 0 with value: 0.9210526315789473.\n",
      "[I 2025-01-25 12:20:20,134] Trial 18 finished with value: 0.9210526315789473 and parameters: {'n_estimators': 107, 'max_depth': 10, 'min_samples_split': 4}. Best is trial 0 with value: 0.9210526315789473.\n",
      "[I 2025-01-25 12:20:20,202] Trial 19 finished with value: 0.9210526315789473 and parameters: {'n_estimators': 144, 'max_depth': 21, 'min_samples_split': 8}. Best is trial 0 with value: 0.9210526315789473.\n"
     ]
    },
    {
     "name": "stdout",
     "output_type": "stream",
     "text": [
      "Best parameters: {'n_estimators': 107, 'max_depth': 4, 'min_samples_split': 5}\n",
      "Test accuracy: 0.9210526315789473\n"
     ]
    }
   ],
   "source": [
    "import optuna\n",
    "from sklearn.datasets import load_iris\n",
    "from sklearn.ensemble import RandomForestClassifier\n",
    "from sklearn.model_selection import train_test_split\n",
    "from sklearn.metrics import accuracy_score\n",
    "\n",
    "# Load the Iris dataset\n",
    "iris = load_iris()\n",
    "X, y = iris.data, iris.target\n",
    "\n",
    "# Split into training and test sets\n",
    "X_train, X_test, y_train, y_test = train_test_split(X, y, test_size=0.25, random_state=11)\n",
    "\n",
    "# Define the objective function for Optuna\n",
    "def objective(trial):\n",
    "    n_estimators = trial.suggest_int('n_estimators', 10, 200)\n",
    "    max_depth = trial.suggest_int('max_depth', 2, 32)\n",
    "    min_samples_split = trial.suggest_int('min_samples_split', 2, 10)\n",
    "\n",
    "    model = RandomForestClassifier(\n",
    "        n_estimators=n_estimators,\n",
    "        max_depth=max_depth,\n",
    "        min_samples_split=min_samples_split,\n",
    "        random_state=42\n",
    "    )\n",
    "    model.fit(X_train, y_train)\n",
    "    y_pred = model.predict(X_test)\n",
    "    return accuracy_score(y_test, y_pred)\n",
    "\n",
    "# Run Optuna hyperparameter optimization\n",
    "study = optuna.create_study(direction='maximize')\n",
    "study.optimize(objective, n_trials=20)\n",
    "\n",
    "# Train the best model\n",
    "best_params = study.best_params\n",
    "print(\"Best parameters:\", best_params)\n",
    "\n",
    "best_model = RandomForestClassifier(**best_params, random_state=42)\n",
    "best_model.fit(X_train, y_train)\n",
    "\n",
    "# Evaluate the model\n",
    "y_pred = best_model.predict(X_test)\n",
    "accuracy = accuracy_score(y_test, y_pred)\n",
    "print(\"Test accuracy:\", accuracy)\n"
   ]
  },
  {
   "cell_type": "markdown",
   "metadata": {},
   "source": [
    "Step 2: Save the Model"
   ]
  },
  {
   "cell_type": "code",
   "execution_count": 3,
   "metadata": {},
   "outputs": [
    {
     "data": {
      "text/plain": [
       "['iris_model.pkl']"
      ]
     },
     "execution_count": 3,
     "metadata": {},
     "output_type": "execute_result"
    }
   ],
   "source": [
    "import joblib\n",
    "joblib.dump(best_model, 'iris_model.pkl')"
   ]
  }
 ],
 "metadata": {
  "kernelspec": {
   "display_name": ".venv",
   "language": "python",
   "name": "python3"
  },
  "language_info": {
   "codemirror_mode": {
    "name": "ipython",
    "version": 3
   },
   "file_extension": ".py",
   "mimetype": "text/x-python",
   "name": "python",
   "nbconvert_exporter": "python",
   "pygments_lexer": "ipython3",
   "version": "3.13.0"
  }
 },
 "nbformat": 4,
 "nbformat_minor": 2
}
